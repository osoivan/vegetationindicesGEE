{
 "cells": [
  {
   "cell_type": "markdown",
   "metadata": {},
   "source": [
    "**<h2>Import Librarys<h2>**"
   ]
  },
  {
   "cell_type": "code",
   "execution_count": 1,
   "metadata": {},
   "outputs": [],
   "source": [
    "#GEE Libraries - Installing using Conda\n",
    "import ee #GEE library\n",
    "import geemap #GEE library to combine with spatial data\n",
    "import folium #Folium Library to create a Leaflet visualization map\n",
    "import geopandas as gpd\n",
    "import pandas as pd\n",
    "from datetime import datetime\n",
    "\n",
    "#Path Libraries\n",
    "import pathlib as Path #import os # pathlib is better than os, avoid the use of this library\n",
    "\n",
    "ee.Initialize() #GEE initialization"
   ]
  },
  {
   "cell_type": "markdown",
   "metadata": {},
   "source": [
    "**<h2>Change Path Area and Ground data Locations<h2>**"
   ]
  },
  {
   "cell_type": "code",
   "execution_count": 2,
   "metadata": {},
   "outputs": [],
   "source": [
    "current_path=Path.Path.cwd().parent\n",
    "campinas=current_path.joinpath('data','campinas', 'gis_data','shapefiles','plots','PLOTS4326.shp') #PLOTS4326.shp\""
   ]
  },
  {
   "cell_type": "markdown",
   "metadata": {},
   "source": [
    "**<h2>Define Input Parameters (Dates and attribute to filter areas)<h2>**"
   ]
  },
  {
   "cell_type": "code",
   "execution_count": 3,
   "metadata": {},
   "outputs": [
    {
     "data": {
      "text/plain": [
       "2"
      ]
     },
     "execution_count": 3,
     "metadata": {},
     "output_type": "execute_result"
    }
   ],
   "source": [
    "#Name of the total area\n",
    "area = campinas\n",
    "\n",
    "#Name of the attribute field to filter\n",
    "selection = 'names'\n",
    "\n",
    "#Dates to filter the imagery\n",
    "startDate = '2021-09-12'\n",
    "endDate = '2021-09-14'\n",
    "\n",
    "d1 = datetime.strptime(startDate, \"%Y-%m-%d\")\n",
    "d2 = datetime.strptime(endDate, \"%Y-%m-%d\")\n",
    "\n",
    "AOI_total = geemap.shp_to_ee(area)\n",
    "\n",
    "abs((d2 - d1).days)\n",
    "\n"
   ]
  },
  {
   "cell_type": "markdown",
   "metadata": {},
   "source": [
    "**<h2>Functions to Compute Multiespectral indexes<h2>**"
   ]
  },
  {
   "cell_type": "code",
   "execution_count": 4,
   "metadata": {},
   "outputs": [],
   "source": [
    "#Adding a NDVI band\n",
    "def indexes(image):\n",
    "  #Define Satellite bands names\n",
    "  BLUE = image.select('B2')\n",
    "  GREEN = image.select('B3')\n",
    "  RED = image.select('B4')\n",
    "  REDG = image.select('B5')\n",
    "  NIR = image.select('B8')\n",
    "\n",
    "  #Multiespectral indexes expressions\n",
    "  NDVI = NIR.subtract(RED).divide(NIR.add(RED)).rename('NDVI')\n",
    "  NDRE = NIR.subtract(REDG).divide(NIR.add(REDG)).rename('NDRE')\n",
    "  GNDVI = NIR.subtract(GREEN).divide(NIR.add(GREEN)).rename('GNDVI')\n",
    "  BNDVI = NIR.subtract(BLUE).divide(NIR.add(BLUE)).rename('BNDVI')\n",
    "  NPCI = RED.subtract(BLUE).divide(RED.add(BLUE)).rename('NPCI')\n",
    "  GRVI = GREEN.subtract(RED).divide(GREEN.add(RED)).rename('GRVI')\n",
    "  NGBDI = NIR.subtract(GREEN.add(RED)).divide(NIR.add(GREEN).add(RED)).rename('NGBDI')\n",
    "\n",
    "  return image.addBands([NDVI,NDRE,GNDVI,BNDVI,NPCI,GRVI,NGBDI])"
   ]
  },
  {
   "cell_type": "markdown",
   "metadata": {},
   "source": [
    "**<h2>Adding the image collection with cloud mask<h2>**"
   ]
  },
  {
   "cell_type": "code",
   "execution_count": 5,
   "metadata": {},
   "outputs": [],
   "source": [
    "#Image collection Sentinel-2\n",
    "imagecollection = ee.ImageCollection('COPERNICUS/S2_SR') \\\n",
    "    .filterDate(startDate, endDate) \\\n",
    "    .map(indexes) \\\n",
    "    .filterBounds(AOI_total)\n",
    "\n",
    "\n",
    "image = ee.Image(imagecollection.first())\n",
    "\n",
    "#Cloud mask\n",
    "cloudProb = image.select('MSK_CLDPRB')\n",
    "snowProb = image.select('MSK_SNWPRB')\n",
    "cloud = cloudProb.lt(5)\n",
    "snow = snowProb.lt(5)\n",
    "scl = image.select('SCL') \n",
    "shadow = scl.eq(3); # 3 = cloud shadow\n",
    "cirrus = scl.eq(10); # 10 = cirrus\n",
    "#Cloud probability less than 5% or cloud shadow classification\n",
    "mask = (cloud.And(snow)).And(cirrus.neq(1)).And(shadow.neq(1))\n",
    "\n",
    "image = image.updateMask(mask)\n",
    "date = ee.Date(image.get('system:time_start')).format(\"yyyy-MM-dd\").getInfo() #Image date"
   ]
  },
  {
   "cell_type": "code",
   "execution_count": 6,
   "metadata": {},
   "outputs": [
    {
     "data": {
      "text/plain": [
       "'2021-09-13'"
      ]
     },
     "execution_count": 6,
     "metadata": {},
     "output_type": "execute_result"
    }
   ],
   "source": [
    "date"
   ]
  },
  {
   "cell_type": "markdown",
   "metadata": {},
   "source": [
    "**<h2>Getting the multiespectral indexes median values per plot area in a final Remote Sensing Dataset<h2>**"
   ]
  },
  {
   "cell_type": "code",
   "execution_count": 7,
   "metadata": {},
   "outputs": [
    {
     "data": {
      "text/html": [
       "<div>\n",
       "<style scoped>\n",
       "    .dataframe tbody tr th:only-of-type {\n",
       "        vertical-align: middle;\n",
       "    }\n",
       "\n",
       "    .dataframe tbody tr th {\n",
       "        vertical-align: top;\n",
       "    }\n",
       "\n",
       "    .dataframe thead th {\n",
       "        text-align: right;\n",
       "    }\n",
       "</style>\n",
       "<table border=\"1\" class=\"dataframe\">\n",
       "  <thead>\n",
       "    <tr style=\"text-align: right;\">\n",
       "      <th></th>\n",
       "      <th>Area</th>\n",
       "      <th>ID</th>\n",
       "      <th>Date</th>\n",
       "      <th>NDVI</th>\n",
       "      <th>NDRE</th>\n",
       "      <th>GNDVI</th>\n",
       "      <th>BNDVI</th>\n",
       "      <th>NPCI</th>\n",
       "      <th>GRVI</th>\n",
       "      <th>NGBDI</th>\n",
       "    </tr>\n",
       "  </thead>\n",
       "  <tbody>\n",
       "    <tr>\n",
       "      <th>0</th>\n",
       "      <td>G01</td>\n",
       "      <td>1</td>\n",
       "      <td>2021-09-13</td>\n",
       "      <td>0.652695</td>\n",
       "      <td>0.455176</td>\n",
       "      <td>0.583042</td>\n",
       "      <td>0.698042</td>\n",
       "      <td>0.082309</td>\n",
       "      <td>0.110552</td>\n",
       "      <td>0.358072</td>\n",
       "    </tr>\n",
       "    <tr>\n",
       "      <th>0</th>\n",
       "      <td>G02</td>\n",
       "      <td>2</td>\n",
       "      <td>2021-09-13</td>\n",
       "      <td>0.636407</td>\n",
       "      <td>0.431107</td>\n",
       "      <td>0.573946</td>\n",
       "      <td>0.682094</td>\n",
       "      <td>0.083598</td>\n",
       "      <td>0.100436</td>\n",
       "      <td>0.342782</td>\n",
       "    </tr>\n",
       "    <tr>\n",
       "      <th>0</th>\n",
       "      <td>G03</td>\n",
       "      <td>3</td>\n",
       "      <td>2021-09-13</td>\n",
       "      <td>0.532353</td>\n",
       "      <td>0.364837</td>\n",
       "      <td>0.483587</td>\n",
       "      <td>0.568742</td>\n",
       "      <td>0.042627</td>\n",
       "      <td>0.057260</td>\n",
       "      <td>0.201429</td>\n",
       "    </tr>\n",
       "    <tr>\n",
       "      <th>0</th>\n",
       "      <td>G04</td>\n",
       "      <td>4</td>\n",
       "      <td>2021-09-13</td>\n",
       "      <td>0.533456</td>\n",
       "      <td>0.379597</td>\n",
       "      <td>0.487460</td>\n",
       "      <td>0.545582</td>\n",
       "      <td>0.015474</td>\n",
       "      <td>0.060927</td>\n",
       "      <td>0.209825</td>\n",
       "    </tr>\n",
       "    <tr>\n",
       "      <th>0</th>\n",
       "      <td>G05</td>\n",
       "      <td>5</td>\n",
       "      <td>2021-09-13</td>\n",
       "      <td>0.486881</td>\n",
       "      <td>0.318538</td>\n",
       "      <td>0.483677</td>\n",
       "      <td>0.576665</td>\n",
       "      <td>0.114159</td>\n",
       "      <td>0.016917</td>\n",
       "      <td>0.179068</td>\n",
       "    </tr>\n",
       "    <tr>\n",
       "      <th>0</th>\n",
       "      <td>G06</td>\n",
       "      <td>6</td>\n",
       "      <td>2021-09-13</td>\n",
       "      <td>0.505437</td>\n",
       "      <td>0.336176</td>\n",
       "      <td>0.474824</td>\n",
       "      <td>0.556149</td>\n",
       "      <td>0.071347</td>\n",
       "      <td>0.040163</td>\n",
       "      <td>0.189900</td>\n",
       "    </tr>\n",
       "    <tr>\n",
       "      <th>0</th>\n",
       "      <td>G07</td>\n",
       "      <td>7</td>\n",
       "      <td>2021-09-13</td>\n",
       "      <td>0.763414</td>\n",
       "      <td>0.619671</td>\n",
       "      <td>0.700233</td>\n",
       "      <td>0.797611</td>\n",
       "      <td>0.093352</td>\n",
       "      <td>0.128523</td>\n",
       "      <td>0.529163</td>\n",
       "    </tr>\n",
       "    <tr>\n",
       "      <th>0</th>\n",
       "      <td>G10</td>\n",
       "      <td>10</td>\n",
       "      <td>2021-09-13</td>\n",
       "      <td>0.698852</td>\n",
       "      <td>0.481842</td>\n",
       "      <td>0.607294</td>\n",
       "      <td>0.718297</td>\n",
       "      <td>0.049446</td>\n",
       "      <td>0.149746</td>\n",
       "      <td>0.407166</td>\n",
       "    </tr>\n",
       "    <tr>\n",
       "      <th>0</th>\n",
       "      <td>G09</td>\n",
       "      <td>9</td>\n",
       "      <td>2021-09-13</td>\n",
       "      <td>0.699418</td>\n",
       "      <td>0.501363</td>\n",
       "      <td>0.598304</td>\n",
       "      <td>0.705492</td>\n",
       "      <td>0.001702</td>\n",
       "      <td>0.180014</td>\n",
       "      <td>0.393517</td>\n",
       "    </tr>\n",
       "    <tr>\n",
       "      <th>0</th>\n",
       "      <td>G08</td>\n",
       "      <td>8</td>\n",
       "      <td>2021-09-13</td>\n",
       "      <td>0.733344</td>\n",
       "      <td>0.535541</td>\n",
       "      <td>0.620944</td>\n",
       "      <td>0.689546</td>\n",
       "      <td>-0.052814</td>\n",
       "      <td>0.196443</td>\n",
       "      <td>0.444293</td>\n",
       "    </tr>\n",
       "    <tr>\n",
       "      <th>0</th>\n",
       "      <td>C07</td>\n",
       "      <td>11</td>\n",
       "      <td>2021-09-13</td>\n",
       "      <td>0.698727</td>\n",
       "      <td>0.481608</td>\n",
       "      <td>0.600000</td>\n",
       "      <td>0.702411</td>\n",
       "      <td>0.003431</td>\n",
       "      <td>0.173607</td>\n",
       "      <td>0.400105</td>\n",
       "    </tr>\n",
       "    <tr>\n",
       "      <th>0</th>\n",
       "      <td>C06</td>\n",
       "      <td>12</td>\n",
       "      <td>2021-09-13</td>\n",
       "      <td>0.710700</td>\n",
       "      <td>0.499301</td>\n",
       "      <td>0.609766</td>\n",
       "      <td>0.713199</td>\n",
       "      <td>0.005618</td>\n",
       "      <td>0.175562</td>\n",
       "      <td>0.415743</td>\n",
       "    </tr>\n",
       "    <tr>\n",
       "      <th>0</th>\n",
       "      <td>C05</td>\n",
       "      <td>13</td>\n",
       "      <td>2021-09-13</td>\n",
       "      <td>0.663414</td>\n",
       "      <td>0.471543</td>\n",
       "      <td>0.580833</td>\n",
       "      <td>0.679158</td>\n",
       "      <td>0.040590</td>\n",
       "      <td>0.134177</td>\n",
       "      <td>0.359038</td>\n",
       "    </tr>\n",
       "  </tbody>\n",
       "</table>\n",
       "</div>"
      ],
      "text/plain": [
       "  Area  ID        Date      NDVI      NDRE     GNDVI     BNDVI      NPCI  \\\n",
       "0  G01   1  2021-09-13  0.652695  0.455176  0.583042  0.698042  0.082309   \n",
       "0  G02   2  2021-09-13  0.636407  0.431107  0.573946  0.682094  0.083598   \n",
       "0  G03   3  2021-09-13  0.532353  0.364837  0.483587  0.568742  0.042627   \n",
       "0  G04   4  2021-09-13  0.533456  0.379597  0.487460  0.545582  0.015474   \n",
       "0  G05   5  2021-09-13  0.486881  0.318538  0.483677  0.576665  0.114159   \n",
       "0  G06   6  2021-09-13  0.505437  0.336176  0.474824  0.556149  0.071347   \n",
       "0  G07   7  2021-09-13  0.763414  0.619671  0.700233  0.797611  0.093352   \n",
       "0  G10  10  2021-09-13  0.698852  0.481842  0.607294  0.718297  0.049446   \n",
       "0  G09   9  2021-09-13  0.699418  0.501363  0.598304  0.705492  0.001702   \n",
       "0  G08   8  2021-09-13  0.733344  0.535541  0.620944  0.689546 -0.052814   \n",
       "0  C07  11  2021-09-13  0.698727  0.481608  0.600000  0.702411  0.003431   \n",
       "0  C06  12  2021-09-13  0.710700  0.499301  0.609766  0.713199  0.005618   \n",
       "0  C05  13  2021-09-13  0.663414  0.471543  0.580833  0.679158  0.040590   \n",
       "\n",
       "       GRVI     NGBDI  \n",
       "0  0.110552  0.358072  \n",
       "0  0.100436  0.342782  \n",
       "0  0.057260  0.201429  \n",
       "0  0.060927  0.209825  \n",
       "0  0.016917  0.179068  \n",
       "0  0.040163  0.189900  \n",
       "0  0.128523  0.529163  \n",
       "0  0.149746  0.407166  \n",
       "0  0.180014  0.393517  \n",
       "0  0.196443  0.444293  \n",
       "0  0.173607  0.400105  \n",
       "0  0.175562  0.415743  \n",
       "0  0.134177  0.359038  "
      ]
     },
     "execution_count": 7,
     "metadata": {},
     "output_type": "execute_result"
    }
   ],
   "source": [
    "shape = gpd.read_file(area)\n",
    "attable = pd.DataFrame(shape,columns=[selection])\n",
    "columns = [\"Area\", \"ID\", \"Date\", \"NDVI\",\"NDRE\",\"GNDVI\",\"BNDVI\",\"NPCI\",\"GRVI\",\"NGBDI\"]\n",
    "\n",
    "i = 0\n",
    "rstable= pd.DataFrame()\n",
    "\n",
    "for i in range(len(attable.index)):\n",
    "    namarea = attable.iloc[i,0]\n",
    "    AOI = AOI_total.filter(ee.Filter.eq(selection, namarea))\n",
    "    \n",
    "    stats = image.reduceRegion(\n",
    "      reducer = ee.Reducer.median(),\n",
    "      geometry= AOI.geometry(),\n",
    "      scale = 1,\n",
    "      maxPixels = 1e10\n",
    "      )\n",
    "\n",
    "    data = [columns, [namarea, shape.iloc[i,0], date, stats.get('NDVI').getInfo(), stats.get('NDRE').getInfo(), stats.get('GNDVI').getInfo(), stats.get('BNDVI').getInfo(), stats.get('NPCI').getInfo(), stats.get('GRVI').getInfo(),  stats.get('NGBDI').getInfo()] ]\n",
    "\n",
    "    column_names = data.pop(0)\n",
    "    df = pd.DataFrame(data, columns=column_names)\n",
    "    rstable = rstable.append(df) \n",
    "\n",
    "\n",
    "rsexport=current_path.joinpath('data','campinas','remote_sensing',date +'.xlsx') #File to export\n",
    "rstable.to_excel(rsexport)  \n",
    "rstable\n"
   ]
  },
  {
   "cell_type": "markdown",
   "metadata": {},
   "source": [
    "**<h2>Map visualization<h2>**"
   ]
  },
  {
   "cell_type": "code",
   "execution_count": 8,
   "metadata": {},
   "outputs": [
    {
     "data": {
      "application/vnd.jupyter.widget-view+json": {
       "model_id": "6c3274135b9d4de5b27b1c27c36aa26e",
       "version_major": 2,
       "version_minor": 0
      },
      "text/plain": [
       "Map(center=[3.0689142976407218, -76.47393986146815], controls=(WidgetControl(options=['position', 'transparent…"
      ]
     },
     "metadata": {},
     "output_type": "display_data"
    }
   ],
   "source": [
    "Map = geemap.Map()\n",
    "Map.centerObject(AOI_total, 30)\n",
    "\n",
    "visParams = {'color': 'blue'}\n",
    "Map.addLayer(AOI_total, visParams,'Study Area')\n",
    "\n",
    "palette = ['red', 'yellow','green']\n",
    "\n",
    "ndvi = image.select('NDVI').clip(AOI_total).updateMask(mask)\n",
    "ndviVis = {'min':-1, 'max':1, 'palette': palette }\n",
    "Map.addLayer(ndvi, ndviVis, 'NDVI Composite')\n",
    "\n",
    "ndre = image.select('NDRE').clip(AOI_total).updateMask(mask)\n",
    "Map.addLayer(ndre, ndviVis, 'NDRE Composite')\n",
    "\n",
    "Map\n",
    "\n",
    "Map"
   ]
  }
 ],
 "metadata": {
  "kernelspec": {
   "display_name": "Python 3.9.7 ('satelite')",
   "language": "python",
   "name": "python3"
  },
  "language_info": {
   "codemirror_mode": {
    "name": "ipython",
    "version": 3
   },
   "file_extension": ".py",
   "mimetype": "text/x-python",
   "name": "python",
   "nbconvert_exporter": "python",
   "pygments_lexer": "ipython3",
   "version": "3.9.7"
  },
  "vscode": {
   "interpreter": {
    "hash": "56068315a564f526c7b50647cd0cc15e55a06cff26ed051c87b57c067f042d8b"
   }
  }
 },
 "nbformat": 4,
 "nbformat_minor": 4
}
